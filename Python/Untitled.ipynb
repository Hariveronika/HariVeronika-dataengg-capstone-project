{
 "cells": [
  {
   "cell_type": "code",
   "execution_count": null,
   "id": "3befb76f-2098-4023-949c-7343699d5957",
   "metadata": {},
   "outputs": [],
   "source": []
  }
 ],
 "metadata": {
  "kernelspec": {
   "display_name": "",
   "name": ""
  },
  "language_info": {
   "name": ""
  }
 },
 "nbformat": 4,
 "nbformat_minor": 5
}
