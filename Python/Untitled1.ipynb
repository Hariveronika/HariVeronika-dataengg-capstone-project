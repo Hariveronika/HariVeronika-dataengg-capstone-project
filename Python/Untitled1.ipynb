{
 "cells": [
  {
   "cell_type": "code",
   "execution_count": 1,
   "id": "32eef69a-406d-4b3b-9efd-c614536cba08",
   "metadata": {},
   "outputs": [
    {
     "name": "stdout",
     "output_type": "stream",
     "text": [
      "Requirement already satisfied: pandas in c:\\users\\ascendion\\appdata\\local\\programs\\python\\python310\\lib\\site-packages (2.3.1)\n",
      "Requirement already satisfied: numpy>=1.22.4 in c:\\users\\ascendion\\appdata\\local\\programs\\python\\python310\\lib\\site-packages (from pandas) (2.2.6)\n",
      "Requirement already satisfied: tzdata>=2022.7 in c:\\users\\ascendion\\appdata\\local\\programs\\python\\python310\\lib\\site-packages (from pandas) (2025.2)\n",
      "Requirement already satisfied: python-dateutil>=2.8.2 in c:\\users\\ascendion\\appdata\\local\\programs\\python\\python310\\lib\\site-packages (from pandas) (2.9.0.post0)\n",
      "Requirement already satisfied: pytz>=2020.1 in c:\\users\\ascendion\\appdata\\local\\programs\\python\\python310\\lib\\site-packages (from pandas) (2025.2)\n",
      "Requirement already satisfied: six>=1.5 in c:\\users\\ascendion\\appdata\\local\\programs\\python\\python310\\lib\\site-packages (from python-dateutil>=2.8.2->pandas) (1.17.0)\n",
      "Note: you may need to restart the kernel to use updated packages.\n"
     ]
    },
    {
     "name": "stderr",
     "output_type": "stream",
     "text": [
      "WARNING: You are using pip version 21.2.3; however, version 25.2 is available.\n",
      "You should consider upgrading via the 'C:\\Users\\Ascendion\\AppData\\Local\\Programs\\Python\\Python310\\python.exe -m pip install --upgrade pip' command.\n"
     ]
    }
   ],
   "source": [
    "pip install pandas"
   ]
  },
  {
   "cell_type": "code",
   "execution_count": 2,
   "id": "4db7bd00-b47b-40fb-890d-514438927d3d",
   "metadata": {},
   "outputs": [],
   "source": [
    "import pandas as pd"
   ]
  },
  {
   "cell_type": "code",
   "execution_count": 11,
   "id": "10bc6589-a887-495c-8424-b5943b5d60bb",
   "metadata": {},
   "outputs": [],
   "source": [
    "emp_df=pd.read_csv(\"C:\\\\Users\\\\Ascendion\\\\Desktop\\\\employees.csv\") #sep=','"
   ]
  },
  {
   "cell_type": "code",
   "execution_count": 41,
   "id": "78832b15-6979-4ce1-b779-db419d2fbe99",
   "metadata": {},
   "outputs": [
    {
     "name": "stdout",
     "output_type": "stream",
     "text": [
      "       Name   Age Department      Salary  DateOfJoining Designation  \\\n",
      "0     Alice  38.0         IT    91828.15            NaN       Clerk   \n",
      "1       Bob   NaN    Finance         NaN            NaN         NaN   \n",
      "2   Charlie   NaN         HR  9999999.00            NaN     Manager   \n",
      "3     David  41.0        NaN    72011.50            NaN    Engineer   \n",
      "4       Eva  29.0      Admin    84763.20            NaN         NaN   \n",
      "5     Frank  50.0      Sales    64000.00            NaN     Analyst   \n",
      "6     Grace  28.0         IT  9999999.00            NaN       Clerk   \n",
      "7    Hannah  45.0         HR    54000.00            NaN     Manager   \n",
      "8       Ian   NaN      Admin    60000.00            NaN         NaN   \n",
      "9      Jane  33.0        NaN    70000.00            NaN    Engineer   \n",
      "10    Kevin   NaN    Finance         NaN            NaN     Manager   \n",
      "11    Laura  38.0         IT    48000.00            NaN       Clerk   \n",
      "12     Mike  24.0      Sales    82000.00            NaN         NaN   \n",
      "13     Nina  55.0        NaN  9999999.00            NaN     Analyst   \n",
      "14    Oscar  30.0      Admin    61000.00            NaN    Engineer   \n",
      "15      Pam   NaN         HR    67000.00            NaN         NaN   \n",
      "16  Quentin  27.0    Finance    77000.00            NaN    Director   \n",
      "17   Rachel   NaN         IT    76000.00            NaN       Clerk   \n",
      "18      Sam  41.0      Sales    69000.00            NaN    Engineer   \n",
      "19     Tina  33.0      Admin         NaN            NaN     Manager   \n",
      "20      Uma   NaN        NaN    55000.00            NaN    Director   \n",
      "21   Victor  22.0         HR  9999999.00            NaN         NaN   \n",
      "22    Wendy  60.0         IT    73000.00            NaN    Engineer   \n",
      "23   Xander   NaN    Finance    80000.00            NaN         NaN   \n",
      "24   Yvonne  39.0      Sales    67000.00            NaN       Clerk   \n",
      "25     Zack  45.0      Admin         NaN            NaN    Director   \n",
      "26      Leo  33.0         HR         NaN            NaN     Manager   \n",
      "27     Mona  27.0    Finance    58000.00            NaN         NaN   \n",
      "28     Nick  50.0         IT  9999999.00            NaN    Engineer   \n",
      "29    Olive   NaN      Sales    62000.00            NaN         NaN   \n",
      "\n",
      "                  Email    Status  \n",
      "0     alice@example.com    Active  \n",
      "1         invalid_email       NaN  \n",
      "2   charlie@example.com  Inactive  \n",
      "3     david@example.com       NaN  \n",
      "4         invalid_email    Active  \n",
      "5     frank@example.com       NaN  \n",
      "6     grace@example.com  Inactive  \n",
      "7    hannah@example.com       NaN  \n",
      "8         invalid_email       NaN  \n",
      "9      jane@example.com    Active  \n",
      "10        invalid_email       NaN  \n",
      "11    laura@example.com       NaN  \n",
      "12     mike@example.com  Inactive  \n",
      "13        invalid_email       NaN  \n",
      "14    oscar@example.com       NaN  \n",
      "15      pam@example.com    Active  \n",
      "16  quentin@example.com       NaN  \n",
      "17        invalid_email       NaN  \n",
      "18      sam@example.com       NaN  \n",
      "19     tina@example.com  Inactive  \n",
      "20        invalid_email       NaN  \n",
      "21   victor@example.com    Active  \n",
      "22        invalid_email       NaN  \n",
      "23   xander@example.com       NaN  \n",
      "24   yvonne@example.com  Inactive  \n",
      "25     zack@example.com    Active  \n",
      "26        invalid_email       NaN  \n",
      "27     mona@example.com       NaN  \n",
      "28        invalid_email  Inactive  \n",
      "29    olive@example.com       NaN  \n"
     ]
    }
   ],
   "source": [
    "print(emp_df)"
   ]
  },
  {
   "cell_type": "code",
   "execution_count": 13,
   "id": "d9f00ae7-c848-455f-9af3-8c2525cec97a",
   "metadata": {},
   "outputs": [
    {
     "data": {
      "text/html": [
       "<div>\n",
       "<style scoped>\n",
       "    .dataframe tbody tr th:only-of-type {\n",
       "        vertical-align: middle;\n",
       "    }\n",
       "\n",
       "    .dataframe tbody tr th {\n",
       "        vertical-align: top;\n",
       "    }\n",
       "\n",
       "    .dataframe thead th {\n",
       "        text-align: right;\n",
       "    }\n",
       "</style>\n",
       "<table border=\"1\" class=\"dataframe\">\n",
       "  <thead>\n",
       "    <tr style=\"text-align: right;\">\n",
       "      <th></th>\n",
       "      <th>Name</th>\n",
       "      <th>Age</th>\n",
       "      <th>Department</th>\n",
       "      <th>Salary</th>\n",
       "      <th>DateOfJoining</th>\n",
       "      <th>Designation</th>\n",
       "      <th>Email</th>\n",
       "      <th>Status</th>\n",
       "    </tr>\n",
       "  </thead>\n",
       "  <tbody>\n",
       "    <tr>\n",
       "      <th>0</th>\n",
       "      <td>Alice</td>\n",
       "      <td>38</td>\n",
       "      <td>IT</td>\n",
       "      <td>91828.15</td>\n",
       "      <td>2019-01-10</td>\n",
       "      <td>Clerk</td>\n",
       "      <td>alice@example.com</td>\n",
       "      <td>Active</td>\n",
       "    </tr>\n",
       "    <tr>\n",
       "      <th>1</th>\n",
       "      <td>Bob</td>\n",
       "      <td>NaN</td>\n",
       "      <td>Finance</td>\n",
       "      <td>NaN</td>\n",
       "      <td>2017-09-15</td>\n",
       "      <td>NaN</td>\n",
       "      <td>invalid_email</td>\n",
       "      <td>NaN</td>\n",
       "    </tr>\n",
       "    <tr>\n",
       "      <th>2</th>\n",
       "      <td>Charlie</td>\n",
       "      <td>Unknown</td>\n",
       "      <td>HR</td>\n",
       "      <td>9999999.00</td>\n",
       "      <td>bad_date</td>\n",
       "      <td>Manager</td>\n",
       "      <td>charlie@example.com</td>\n",
       "      <td>Inactive</td>\n",
       "    </tr>\n",
       "    <tr>\n",
       "      <th>3</th>\n",
       "      <td>David</td>\n",
       "      <td>41</td>\n",
       "      <td>NaN</td>\n",
       "      <td>72011.50</td>\n",
       "      <td>NaN</td>\n",
       "      <td>Engineer</td>\n",
       "      <td>david@example.com</td>\n",
       "      <td>NaN</td>\n",
       "    </tr>\n",
       "    <tr>\n",
       "      <th>4</th>\n",
       "      <td>Eva</td>\n",
       "      <td>29</td>\n",
       "      <td>Admin</td>\n",
       "      <td>84763.20</td>\n",
       "      <td>2015-06-23</td>\n",
       "      <td>NaN</td>\n",
       "      <td>invalid_email</td>\n",
       "      <td>Active</td>\n",
       "    </tr>\n",
       "  </tbody>\n",
       "</table>\n",
       "</div>"
      ],
      "text/plain": [
       "      Name      Age Department      Salary DateOfJoining Designation  \\\n",
       "0    Alice       38         IT    91828.15    2019-01-10       Clerk   \n",
       "1      Bob      NaN    Finance         NaN    2017-09-15         NaN   \n",
       "2  Charlie  Unknown         HR  9999999.00      bad_date     Manager   \n",
       "3    David       41        NaN    72011.50           NaN    Engineer   \n",
       "4      Eva       29      Admin    84763.20    2015-06-23         NaN   \n",
       "\n",
       "                 Email    Status  \n",
       "0    alice@example.com    Active  \n",
       "1        invalid_email       NaN  \n",
       "2  charlie@example.com  Inactive  \n",
       "3    david@example.com       NaN  \n",
       "4        invalid_email    Active  "
      ]
     },
     "execution_count": 13,
     "metadata": {},
     "output_type": "execute_result"
    }
   ],
   "source": [
    "emp_df.head()"
   ]
  },
  {
   "cell_type": "code",
   "execution_count": 14,
   "id": "3e6e88b2-45dd-4eb7-a5c0-3b6a5b01946e",
   "metadata": {},
   "outputs": [
    {
     "name": "stdout",
     "output_type": "stream",
     "text": [
      "<class 'pandas.core.frame.DataFrame'>\n",
      "RangeIndex: 30 entries, 0 to 29\n",
      "Data columns (total 8 columns):\n",
      " #   Column         Non-Null Count  Dtype  \n",
      "---  ------         --------------  -----  \n",
      " 0   Name           30 non-null     object \n",
      " 1   Age            26 non-null     object \n",
      " 2   Department     26 non-null     object \n",
      " 3   Salary         25 non-null     float64\n",
      " 4   DateOfJoining  23 non-null     object \n",
      " 5   Designation    21 non-null     object \n",
      " 6   Email          30 non-null     object \n",
      " 7   Status         12 non-null     object \n",
      "dtypes: float64(1), object(7)\n",
      "memory usage: 2.0+ KB\n"
     ]
    }
   ],
   "source": [
    "emp_df.info()"
   ]
  },
  {
   "cell_type": "code",
   "execution_count": 15,
   "id": "3ab59755-a778-4e85-a6e8-1f2c0b4aeabe",
   "metadata": {},
   "outputs": [
    {
     "data": {
      "text/html": [
       "<div>\n",
       "<style scoped>\n",
       "    .dataframe tbody tr th:only-of-type {\n",
       "        vertical-align: middle;\n",
       "    }\n",
       "\n",
       "    .dataframe tbody tr th {\n",
       "        vertical-align: top;\n",
       "    }\n",
       "\n",
       "    .dataframe thead th {\n",
       "        text-align: right;\n",
       "    }\n",
       "</style>\n",
       "<table border=\"1\" class=\"dataframe\">\n",
       "  <thead>\n",
       "    <tr style=\"text-align: right;\">\n",
       "      <th></th>\n",
       "      <th>Salary</th>\n",
       "    </tr>\n",
       "  </thead>\n",
       "  <tbody>\n",
       "    <tr>\n",
       "      <th>count</th>\n",
       "      <td>2.500000e+01</td>\n",
       "    </tr>\n",
       "    <tr>\n",
       "      <th>mean</th>\n",
       "      <td>2.054864e+06</td>\n",
       "    </tr>\n",
       "    <tr>\n",
       "      <th>std</th>\n",
       "      <td>4.054497e+06</td>\n",
       "    </tr>\n",
       "    <tr>\n",
       "      <th>min</th>\n",
       "      <td>4.800000e+04</td>\n",
       "    </tr>\n",
       "    <tr>\n",
       "      <th>25%</th>\n",
       "      <td>6.200000e+04</td>\n",
       "    </tr>\n",
       "    <tr>\n",
       "      <th>50%</th>\n",
       "      <td>7.201150e+04</td>\n",
       "    </tr>\n",
       "    <tr>\n",
       "      <th>75%</th>\n",
       "      <td>8.476320e+04</td>\n",
       "    </tr>\n",
       "    <tr>\n",
       "      <th>max</th>\n",
       "      <td>9.999999e+06</td>\n",
       "    </tr>\n",
       "  </tbody>\n",
       "</table>\n",
       "</div>"
      ],
      "text/plain": [
       "             Salary\n",
       "count  2.500000e+01\n",
       "mean   2.054864e+06\n",
       "std    4.054497e+06\n",
       "min    4.800000e+04\n",
       "25%    6.200000e+04\n",
       "50%    7.201150e+04\n",
       "75%    8.476320e+04\n",
       "max    9.999999e+06"
      ]
     },
     "execution_count": 15,
     "metadata": {},
     "output_type": "execute_result"
    }
   ],
   "source": [
    "emp_df.describe()"
   ]
  },
  {
   "cell_type": "code",
   "execution_count": 16,
   "id": "e21cea7e-c317-45fa-9b6c-1e5a37b3e7c6",
   "metadata": {},
   "outputs": [
    {
     "data": {
      "text/plain": [
       "Name              object\n",
       "Age               object\n",
       "Department        object\n",
       "Salary           float64\n",
       "DateOfJoining     object\n",
       "Designation       object\n",
       "Email             object\n",
       "Status            object\n",
       "dtype: object"
      ]
     },
     "execution_count": 16,
     "metadata": {},
     "output_type": "execute_result"
    }
   ],
   "source": [
    "emp_df.dtypes"
   ]
  },
  {
   "cell_type": "code",
   "execution_count": 18,
   "id": "51c20f9e-8589-4a1d-a873-310e7edc9bf8",
   "metadata": {},
   "outputs": [
    {
     "data": {
      "text/plain": [
       "(30, 8)"
      ]
     },
     "execution_count": 18,
     "metadata": {},
     "output_type": "execute_result"
    }
   ],
   "source": [
    "emp_df.shape"
   ]
  },
  {
   "cell_type": "code",
   "execution_count": 19,
   "id": "4de101b2-7851-4d91-8c09-25efaea30c61",
   "metadata": {},
   "outputs": [
    {
     "name": "stdout",
     "output_type": "stream",
     "text": [
      "       Name      Age\n",
      "0     Alice       38\n",
      "1       Bob      NaN\n",
      "2   Charlie  Unknown\n",
      "3     David       41\n",
      "4       Eva       29\n",
      "5     Frank       50\n",
      "6     Grace       28\n",
      "7    Hannah       45\n",
      "8       Ian  Unknown\n",
      "9      Jane       33\n",
      "10    Kevin      NaN\n",
      "11    Laura       38\n",
      "12     Mike       24\n",
      "13     Nina       55\n",
      "14    Oscar       30\n",
      "15      Pam  Unknown\n",
      "16  Quentin       27\n",
      "17   Rachel      NaN\n",
      "18      Sam       41\n",
      "19     Tina       33\n",
      "20      Uma  Unknown\n",
      "21   Victor       22\n",
      "22    Wendy       60\n",
      "23   Xander      NaN\n",
      "24   Yvonne       39\n",
      "25     Zack       45\n",
      "26      Leo       33\n",
      "27     Mona       27\n",
      "28     Nick       50\n",
      "29    Olive  Unknown\n"
     ]
    }
   ],
   "source": [
    "print(emp_df[['Name','Age']])"
   ]
  },
  {
   "cell_type": "code",
   "execution_count": 28,
   "id": "3f1f5ba1-94cb-46f8-8389-5760397e617a",
   "metadata": {},
   "outputs": [],
   "source": [
    "#replace bad strings with NAN"
   ]
  },
  {
   "cell_type": "code",
   "execution_count": 29,
   "id": "9faa9843-cd16-4a85-8b9d-fd1f17725bd3",
   "metadata": {},
   "outputs": [],
   "source": [
    "import numpy as np\n",
    "\n",
    "emp_df.replace(['Unknown', 'NaN', 'N/A', 'bad_date'], np.nan, inplace=True)\n"
   ]
  },
  {
   "cell_type": "code",
   "execution_count": 30,
   "id": "772595cd-2382-4584-baf8-0253a66a7d3b",
   "metadata": {},
   "outputs": [
    {
     "name": "stdout",
     "output_type": "stream",
     "text": [
      "       Name  Age Department      Salary DateOfJoining Designation  \\\n",
      "0     Alice   38         IT    91828.15    2019-01-10       Clerk   \n",
      "1       Bob  NaN    Finance         NaN    2017-09-15         NaN   \n",
      "2   Charlie  NaN         HR  9999999.00           NaN     Manager   \n",
      "3     David   41        NaN    72011.50           NaN    Engineer   \n",
      "4       Eva   29      Admin    84763.20    2015-06-23         NaN   \n",
      "5     Frank   50      Sales    64000.00    2017-09-15     Analyst   \n",
      "6     Grace   28         IT  9999999.00    2019-01-10       Clerk   \n",
      "7    Hannah   45         HR    54000.00           NaN     Manager   \n",
      "8       Ian  NaN      Admin    60000.00           NaN         NaN   \n",
      "9      Jane   33        NaN    70000.00    2015-06-23    Engineer   \n",
      "10    Kevin  NaN    Finance         NaN    2017-09-15     Manager   \n",
      "11    Laura   38         IT    48000.00           NaN       Clerk   \n",
      "12     Mike   24      Sales    82000.00    2019-01-10         NaN   \n",
      "13     Nina   55        NaN  9999999.00    2015-06-23     Analyst   \n",
      "14    Oscar   30      Admin    61000.00           NaN    Engineer   \n",
      "15      Pam  NaN         HR    67000.00    2017-09-15         NaN   \n",
      "16  Quentin   27    Finance    77000.00           NaN    Director   \n",
      "17   Rachel  NaN         IT    76000.00    2019-01-10       Clerk   \n",
      "18      Sam   41      Sales    69000.00           NaN    Engineer   \n",
      "19     Tina   33      Admin         NaN    2015-06-23     Manager   \n",
      "20      Uma  NaN        NaN    55000.00           NaN    Director   \n",
      "21   Victor   22         HR  9999999.00    2017-09-15         NaN   \n",
      "22    Wendy   60         IT    73000.00           NaN    Engineer   \n",
      "23   Xander  NaN    Finance    80000.00    2019-01-10         NaN   \n",
      "24   Yvonne   39      Sales    67000.00           NaN       Clerk   \n",
      "25     Zack   45      Admin         NaN           NaN    Director   \n",
      "26      Leo   33         HR         NaN    2017-09-15     Manager   \n",
      "27     Mona   27    Finance    58000.00    2015-06-23         NaN   \n",
      "28     Nick   50         IT  9999999.00           NaN    Engineer   \n",
      "29    Olive  NaN      Sales    62000.00           NaN         NaN   \n",
      "\n",
      "                  Email    Status  \n",
      "0     alice@example.com    Active  \n",
      "1         invalid_email       NaN  \n",
      "2   charlie@example.com  Inactive  \n",
      "3     david@example.com       NaN  \n",
      "4         invalid_email    Active  \n",
      "5     frank@example.com       NaN  \n",
      "6     grace@example.com  Inactive  \n",
      "7    hannah@example.com       NaN  \n",
      "8         invalid_email       NaN  \n",
      "9      jane@example.com    Active  \n",
      "10        invalid_email       NaN  \n",
      "11    laura@example.com       NaN  \n",
      "12     mike@example.com  Inactive  \n",
      "13        invalid_email       NaN  \n",
      "14    oscar@example.com       NaN  \n",
      "15      pam@example.com    Active  \n",
      "16  quentin@example.com       NaN  \n",
      "17        invalid_email       NaN  \n",
      "18      sam@example.com       NaN  \n",
      "19     tina@example.com  Inactive  \n",
      "20        invalid_email       NaN  \n",
      "21   victor@example.com    Active  \n",
      "22        invalid_email       NaN  \n",
      "23   xander@example.com       NaN  \n",
      "24   yvonne@example.com  Inactive  \n",
      "25     zack@example.com    Active  \n",
      "26        invalid_email       NaN  \n",
      "27     mona@example.com       NaN  \n",
      "28        invalid_email  Inactive  \n",
      "29    olive@example.com       NaN  \n"
     ]
    }
   ],
   "source": [
    "print(emp_df)"
   ]
  },
  {
   "cell_type": "code",
   "execution_count": 32,
   "id": "d321795c-a2de-4324-ac48-3bc569a7cfc6",
   "metadata": {},
   "outputs": [
    {
     "data": {
      "text/plain": [
       "Name              object\n",
       "Age               object\n",
       "Department        object\n",
       "Salary           float64\n",
       "DateOfJoining     object\n",
       "Designation       object\n",
       "Email             object\n",
       "Status            object\n",
       "dtype: object"
      ]
     },
     "execution_count": 32,
     "metadata": {},
     "output_type": "execute_result"
    }
   ],
   "source": [
    "emp_df.dtypes"
   ]
  },
  {
   "cell_type": "code",
   "execution_count": 31,
   "id": "85249567-57be-4d15-8964-d3913aed0c3b",
   "metadata": {},
   "outputs": [],
   "source": [
    "#Convert data type"
   ]
  },
  {
   "cell_type": "code",
   "execution_count": 34,
   "id": "e5ab7d84-b16d-48aa-91c7-acff7a239a86",
   "metadata": {},
   "outputs": [],
   "source": [
    "emp_df['Age']=pd.to_numeric(emp_df['Age'],errors='coerce')\n",
    "emp_df['Salary']=pd.to_numeric(emp_df['Salary'],errors='coerce')\n",
    "emp_df['DateOfJoining']=pd.to_numeric(emp_df['DateOfJoining'],errors='coerce')"
   ]
  },
  {
   "cell_type": "code",
   "execution_count": 35,
   "id": "000da3e4-cf99-47a4-bc97-8a0ae9d3a8ae",
   "metadata": {},
   "outputs": [
    {
     "data": {
      "text/plain": [
       "Name              object\n",
       "Age              float64\n",
       "Department        object\n",
       "Salary           float64\n",
       "DateOfJoining    float64\n",
       "Designation       object\n",
       "Email             object\n",
       "Status            object\n",
       "dtype: object"
      ]
     },
     "execution_count": 35,
     "metadata": {},
     "output_type": "execute_result"
    }
   ],
   "source": [
    "emp_df.dtypes"
   ]
  },
  {
   "cell_type": "code",
   "execution_count": 36,
   "id": "7362a762-f927-4fa3-84af-ef09fb58cb14",
   "metadata": {},
   "outputs": [],
   "source": [
    " #Step 4:Clean Designation column"
   ]
  },
  {
   "cell_type": "code",
   "execution_count": 38,
   "id": "df2c4be1-7f1c-420b-9625-c58b97a887f5",
   "metadata": {},
   "outputs": [],
   "source": [
    "emp_df['Designation']=emp_df['Designation'].str.strip().str.title()"
   ]
  },
  {
   "cell_type": "code",
   "execution_count": 39,
   "id": "8fb7fee8-0b50-4479-b12b-7bf110ac0c60",
   "metadata": {},
   "outputs": [],
   "source": [
    "#Step 5: Validation email address using regax"
   ]
  },
  {
   "cell_type": "code",
   "execution_count": 40,
   "id": "ee0347ef-5e70-442a-8ad7-c831e5e8fd72",
   "metadata": {},
   "outputs": [],
   "source": [
    "import re"
   ]
  },
  {
   "cell_type": "code",
   "execution_count": 42,
   "id": "caf6c33a-409c-40eb-9b2b-c2f7bc9b421e",
   "metadata": {},
   "outputs": [],
   "source": [
    "def is_valid_email(email):\n",
    "    if pd.isna(email): return False\n",
    "    pattern =r\"^[\\w\\.-]+@[\\w\\.-]+\\.\\w+$\"\n",
    "    return bool(re.match(pattern, str(email)))\n",
    "\n",
    "emp_df['EmailValid'] = emp_df['Email'].apply(is_valid_email)"
   ]
  },
  {
   "cell_type": "code",
   "execution_count": 45,
   "id": "645be9da-d797-4948-955d-4c7838987a7a",
   "metadata": {},
   "outputs": [
    {
     "name": "stdout",
     "output_type": "stream",
     "text": [
      "   Designation                Email  EmailValid\n",
      "0        Clerk    alice@example.com        True\n",
      "1          NaN        invalid_email       False\n",
      "2      Manager  charlie@example.com        True\n",
      "3     Engineer    david@example.com        True\n",
      "4          NaN        invalid_email       False\n",
      "5      Analyst    frank@example.com        True\n",
      "6        Clerk    grace@example.com        True\n",
      "7      Manager   hannah@example.com        True\n",
      "8          NaN        invalid_email       False\n",
      "9     Engineer     jane@example.com        True\n",
      "10     Manager        invalid_email       False\n",
      "11       Clerk    laura@example.com        True\n",
      "12         NaN     mike@example.com        True\n",
      "13     Analyst        invalid_email       False\n",
      "14    Engineer    oscar@example.com        True\n",
      "15         NaN      pam@example.com        True\n",
      "16    Director  quentin@example.com        True\n",
      "17       Clerk        invalid_email       False\n",
      "18    Engineer      sam@example.com        True\n",
      "19     Manager     tina@example.com        True\n",
      "20    Director        invalid_email       False\n",
      "21         NaN   victor@example.com        True\n",
      "22    Engineer        invalid_email       False\n",
      "23         NaN   xander@example.com        True\n",
      "24       Clerk   yvonne@example.com        True\n",
      "25    Director     zack@example.com        True\n",
      "26     Manager        invalid_email       False\n",
      "27         NaN     mona@example.com        True\n",
      "28    Engineer        invalid_email       False\n",
      "29         NaN    olive@example.com        True\n"
     ]
    }
   ],
   "source": [
    "print(emp_df[['Designation','Email','EmailValid']])"
   ]
  },
  {
   "cell_type": "code",
   "execution_count": 46,
   "id": "211cd2d8-66cf-414f-8c87-79c42490283f",
   "metadata": {},
   "outputs": [],
   "source": [
    "#Remove salary oulliner"
   ]
  },
  {
   "cell_type": "code",
   "execution_count": 47,
   "id": "3802a622-6375-4d58-a881-ff68ee5bb44c",
   "metadata": {},
   "outputs": [],
   "source": [
    "emp_df = emp_df[emp_df['Salary'] < 500000] "
   ]
  },
  {
   "cell_type": "code",
   "execution_count": 48,
   "id": "f139187a-f5c8-4695-890a-b2d200c4739d",
   "metadata": {},
   "outputs": [
    {
     "name": "stdout",
     "output_type": "stream",
     "text": [
      "Name             20\n",
      "Age              14\n",
      "Department       17\n",
      "Salary           20\n",
      "DateOfJoining     0\n",
      "Designation      13\n",
      "Email            20\n",
      "Status            6\n",
      "EmailValid       20\n",
      "dtype: int64\n"
     ]
    }
   ],
   "source": [
    "print(emp_df.count())"
   ]
  },
  {
   "cell_type": "raw",
   "id": "d8110f96-6491-4f05-87cd-8d770c9ccf10",
   "metadata": {},
   "source": [
    "Zscore ,IQR"
   ]
  },
  {
   "cell_type": "code",
   "execution_count": null,
   "id": "55036013-a750-43e0-94ce-e4efa9bd75ff",
   "metadata": {},
   "outputs": [],
   "source": []
  }
 ],
 "metadata": {
  "kernelspec": {
   "display_name": "Python 3 (ipykernel)",
   "language": "python",
   "name": "python3"
  },
  "language_info": {
   "codemirror_mode": {
    "name": "ipython",
    "version": 3
   },
   "file_extension": ".py",
   "mimetype": "text/x-python",
   "name": "python",
   "nbconvert_exporter": "python",
   "pygments_lexer": "ipython3",
   "version": "3.10.0"
  }
 },
 "nbformat": 4,
 "nbformat_minor": 5
}
