{
 "cells": [
  {
   "cell_type": "code",
   "execution_count": 2,
   "id": "8d16186b-551c-4a84-ada0-8831250d94bc",
   "metadata": {},
   "outputs": [],
   "source": [
    "   a=1"
   ]
  },
  {
   "cell_type": "code",
   "execution_count": 3,
   "id": "93314865-071a-4819-b085-47e18653cabe",
   "metadata": {},
   "outputs": [
    {
     "data": {
      "text/plain": [
       "int"
      ]
     },
     "execution_count": 3,
     "metadata": {},
     "output_type": "execute_result"
    }
   ],
   "source": [
    "type(a)"
   ]
  },
  {
   "cell_type": "code",
   "execution_count": 4,
   "id": "a9ff643c-2b15-42e5-a1cc-07dbc958b943",
   "metadata": {},
   "outputs": [],
   "source": [
    "b='Hi'"
   ]
  },
  {
   "cell_type": "code",
   "execution_count": 5,
   "id": "bef3b44f-be48-4161-b29a-2e16203c2353",
   "metadata": {},
   "outputs": [
    {
     "data": {
      "text/plain": [
       "str"
      ]
     },
     "execution_count": 5,
     "metadata": {},
     "output_type": "execute_result"
    }
   ],
   "source": [
    "type(b)"
   ]
  },
  {
   "cell_type": "code",
   "execution_count": 6,
   "id": "be217757-1074-4713-b62e-d99e9f00483d",
   "metadata": {},
   "outputs": [],
   "source": [
    "c=True"
   ]
  },
  {
   "cell_type": "code",
   "execution_count": 7,
   "id": "38aedf37-e4b4-45d1-af17-02a57ec2caa0",
   "metadata": {},
   "outputs": [
    {
     "data": {
      "text/plain": [
       "bool"
      ]
     },
     "execution_count": 7,
     "metadata": {},
     "output_type": "execute_result"
    }
   ],
   "source": [
    "type(c)"
   ]
  },
  {
   "cell_type": "code",
   "execution_count": 9,
   "id": "60938bbe-d14a-4de7-949f-fdd03e26232a",
   "metadata": {},
   "outputs": [
    {
     "data": {
      "text/plain": [
       "str"
      ]
     },
     "execution_count": 9,
     "metadata": {},
     "output_type": "execute_result"
    }
   ],
   "source": [
    "type(a)"
   ]
  },
  {
   "cell_type": "code",
   "execution_count": 13,
   "id": "3b96bec9-7e7f-4d62-a3ab-bc11ccb951ca",
   "metadata": {},
   "outputs": [],
   "source": [
    "a=1\n",
    "b=2"
   ]
  },
  {
   "cell_type": "code",
   "execution_count": 15,
   "id": "2982a84c-d4df-4163-bb60-090ec49051b0",
   "metadata": {},
   "outputs": [
    {
     "name": "stdout",
     "output_type": "stream",
     "text": [
      "the sum of two numbers 3\n"
     ]
    }
   ],
   "source": [
    "c =a+b\n",
    "print(\"the sum of two numbers\",c)"
   ]
  },
  {
   "cell_type": "code",
   "execution_count": 19,
   "id": "e89aa0fa-6a7c-4ce6-ab52-f430552c62ba",
   "metadata": {},
   "outputs": [
    {
     "data": {
      "text/plain": [
       "['__abs__',\n",
       " '__add__',\n",
       " '__and__',\n",
       " '__bool__',\n",
       " '__ceil__',\n",
       " '__class__',\n",
       " '__delattr__',\n",
       " '__dir__',\n",
       " '__divmod__',\n",
       " '__doc__',\n",
       " '__eq__',\n",
       " '__float__',\n",
       " '__floor__',\n",
       " '__floordiv__',\n",
       " '__format__',\n",
       " '__ge__',\n",
       " '__getattribute__',\n",
       " '__getnewargs__',\n",
       " '__gt__',\n",
       " '__hash__',\n",
       " '__index__',\n",
       " '__init__',\n",
       " '__init_subclass__',\n",
       " '__int__',\n",
       " '__invert__',\n",
       " '__le__',\n",
       " '__lshift__',\n",
       " '__lt__',\n",
       " '__mod__',\n",
       " '__mul__',\n",
       " '__ne__',\n",
       " '__neg__',\n",
       " '__new__',\n",
       " '__or__',\n",
       " '__pos__',\n",
       " '__pow__',\n",
       " '__radd__',\n",
       " '__rand__',\n",
       " '__rdivmod__',\n",
       " '__reduce__',\n",
       " '__reduce_ex__',\n",
       " '__repr__',\n",
       " '__rfloordiv__',\n",
       " '__rlshift__',\n",
       " '__rmod__',\n",
       " '__rmul__',\n",
       " '__ror__',\n",
       " '__round__',\n",
       " '__rpow__',\n",
       " '__rrshift__',\n",
       " '__rshift__',\n",
       " '__rsub__',\n",
       " '__rtruediv__',\n",
       " '__rxor__',\n",
       " '__setattr__',\n",
       " '__sizeof__',\n",
       " '__str__',\n",
       " '__sub__',\n",
       " '__subclasshook__',\n",
       " '__truediv__',\n",
       " '__trunc__',\n",
       " '__xor__',\n",
       " 'as_integer_ratio',\n",
       " 'bit_count',\n",
       " 'bit_length',\n",
       " 'conjugate',\n",
       " 'denominator',\n",
       " 'from_bytes',\n",
       " 'imag',\n",
       " 'numerator',\n",
       " 'real',\n",
       " 'to_bytes']"
      ]
     },
     "execution_count": 19,
     "metadata": {},
     "output_type": "execute_result"
    }
   ],
   "source": [
    "dir(a)"
   ]
  },
  {
   "cell_type": "code",
   "execution_count": 17,
   "id": "20ce1198-aac7-4f34-87ca-51dc25a6d4bc",
   "metadata": {},
   "outputs": [
    {
     "name": "stdout",
     "output_type": "stream",
     "text": [
      "hello world\n"
     ]
    }
   ],
   "source": [
    "msg=\"hello world\"\n",
    "print(msg)"
   ]
  },
  {
   "cell_type": "code",
   "execution_count": 18,
   "id": "eea49f26-6e79-4fb3-8893-12d12892fc3f",
   "metadata": {},
   "outputs": [
    {
     "data": {
      "text/plain": [
       "['__add__',\n",
       " '__class__',\n",
       " '__contains__',\n",
       " '__delattr__',\n",
       " '__dir__',\n",
       " '__doc__',\n",
       " '__eq__',\n",
       " '__format__',\n",
       " '__ge__',\n",
       " '__getattribute__',\n",
       " '__getitem__',\n",
       " '__getnewargs__',\n",
       " '__gt__',\n",
       " '__hash__',\n",
       " '__init__',\n",
       " '__init_subclass__',\n",
       " '__iter__',\n",
       " '__le__',\n",
       " '__len__',\n",
       " '__lt__',\n",
       " '__mod__',\n",
       " '__mul__',\n",
       " '__ne__',\n",
       " '__new__',\n",
       " '__reduce__',\n",
       " '__reduce_ex__',\n",
       " '__repr__',\n",
       " '__rmod__',\n",
       " '__rmul__',\n",
       " '__setattr__',\n",
       " '__sizeof__',\n",
       " '__str__',\n",
       " '__subclasshook__',\n",
       " 'capitalize',\n",
       " 'casefold',\n",
       " 'center',\n",
       " 'count',\n",
       " 'encode',\n",
       " 'endswith',\n",
       " 'expandtabs',\n",
       " 'find',\n",
       " 'format',\n",
       " 'format_map',\n",
       " 'index',\n",
       " 'isalnum',\n",
       " 'isalpha',\n",
       " 'isascii',\n",
       " 'isdecimal',\n",
       " 'isdigit',\n",
       " 'isidentifier',\n",
       " 'islower',\n",
       " 'isnumeric',\n",
       " 'isprintable',\n",
       " 'isspace',\n",
       " 'istitle',\n",
       " 'isupper',\n",
       " 'join',\n",
       " 'ljust',\n",
       " 'lower',\n",
       " 'lstrip',\n",
       " 'maketrans',\n",
       " 'partition',\n",
       " 'removeprefix',\n",
       " 'removesuffix',\n",
       " 'replace',\n",
       " 'rfind',\n",
       " 'rindex',\n",
       " 'rjust',\n",
       " 'rpartition',\n",
       " 'rsplit',\n",
       " 'rstrip',\n",
       " 'split',\n",
       " 'splitlines',\n",
       " 'startswith',\n",
       " 'strip',\n",
       " 'swapcase',\n",
       " 'title',\n",
       " 'translate',\n",
       " 'upper',\n",
       " 'zfill']"
      ]
     },
     "execution_count": 18,
     "metadata": {},
     "output_type": "execute_result"
    }
   ],
   "source": [
    "dir(msg)"
   ]
  },
  {
   "cell_type": "code",
   "execution_count": 21,
   "id": "2832ca1e-9d87-4a91-9d4e-0af0f96c82ac",
   "metadata": {},
   "outputs": [
    {
     "data": {
      "text/plain": [
       "['False',\n",
       " 'None',\n",
       " 'True',\n",
       " 'and',\n",
       " 'as',\n",
       " 'assert',\n",
       " 'async',\n",
       " 'await',\n",
       " 'break',\n",
       " 'class',\n",
       " 'continue',\n",
       " 'def',\n",
       " 'del',\n",
       " 'elif',\n",
       " 'else',\n",
       " 'except',\n",
       " 'finally',\n",
       " 'for',\n",
       " 'from',\n",
       " 'global',\n",
       " 'if',\n",
       " 'import',\n",
       " 'in',\n",
       " 'is',\n",
       " 'lambda',\n",
       " 'nonlocal',\n",
       " 'not',\n",
       " 'or',\n",
       " 'pass',\n",
       " 'raise',\n",
       " 'return',\n",
       " 'try',\n",
       " 'while',\n",
       " 'with',\n",
       " 'yield']"
      ]
     },
     "execution_count": 21,
     "metadata": {},
     "output_type": "execute_result"
    }
   ],
   "source": [
    "import keyword\n",
    "keyword.kwlist"
   ]
  },
  {
   "cell_type": "code",
   "execution_count": 23,
   "id": "293102e8-4b96-4f4f-a0e4-e6cd64a78491",
   "metadata": {},
   "outputs": [
    {
     "name": "stdout",
     "output_type": "stream",
     "text": [
      "2899311657488 2899311657488\n"
     ]
    }
   ],
   "source": [
    "a=10\n",
    "b=10\n",
    "print(id(a),id(b))"
   ]
  },
  {
   "cell_type": "code",
   "execution_count": 24,
   "id": "1e92f924-7d40-462a-98b6-f58fd3fc046e",
   "metadata": {},
   "outputs": [
    {
     "name": "stdout",
     "output_type": "stream",
     "text": [
      "2899409822768 2899409829776\n"
     ]
    }
   ],
   "source": [
    "a=300\n",
    "b=300\n",
    "print(id(a),id(b))"
   ]
  },
  {
   "cell_type": "code",
   "execution_count": 26,
   "id": "3c89e6a9-552b-4ac2-ba69-394527f5cad3",
   "metadata": {},
   "outputs": [
    {
     "data": {
      "text/plain": [
       "'d'"
      ]
     },
     "execution_count": 26,
     "metadata": {},
     "output_type": "execute_result"
    }
   ],
   "source": [
    "s=\"durga\"\n",
    "s[0]"
   ]
  },
  {
   "cell_type": "code",
   "execution_count": 27,
   "id": "1eedc352-6b02-44f8-9a68-dc910a885fc0",
   "metadata": {},
   "outputs": [
    {
     "data": {
      "text/plain": [
       "'u'"
      ]
     },
     "execution_count": 27,
     "metadata": {},
     "output_type": "execute_result"
    }
   ],
   "source": [
    "s[1]"
   ]
  },
  {
   "cell_type": "code",
   "execution_count": 28,
   "id": "85c12da3-21f2-4fa1-a7b1-2494e6c3e658",
   "metadata": {},
   "outputs": [
    {
     "data": {
      "text/plain": [
       "'a'"
      ]
     },
     "execution_count": 28,
     "metadata": {},
     "output_type": "execute_result"
    }
   ],
   "source": [
    "s[-1]"
   ]
  },
  {
   "cell_type": "code",
   "execution_count": 29,
   "id": "46661376-1630-4ab8-a35d-f6b71861ed7a",
   "metadata": {},
   "outputs": [
    {
     "ename": "IndexError",
     "evalue": "string index out of range",
     "output_type": "error",
     "traceback": [
      "\u001b[1;31m---------------------------------------------------------------------------\u001b[0m",
      "\u001b[1;31mIndexError\u001b[0m                                Traceback (most recent call last)",
      "Cell \u001b[1;32mIn[29], line 1\u001b[0m\n\u001b[1;32m----> 1\u001b[0m \u001b[43ms\u001b[49m\u001b[43m[\u001b[49m\u001b[38;5;241;43m40\u001b[39;49m\u001b[43m]\u001b[49m\n",
      "\u001b[1;31mIndexError\u001b[0m: string index out of range"
     ]
    }
   ],
   "source": [
    "s[40]"
   ]
  },
  {
   "cell_type": "code",
   "execution_count": 30,
   "id": "d171af0f-fed3-4d14-9ef3-17df446d5067",
   "metadata": {},
   "outputs": [
    {
     "data": {
      "text/plain": [
       "'urga'"
      ]
     },
     "execution_count": 30,
     "metadata": {},
     "output_type": "execute_result"
    }
   ],
   "source": [
    "s[1:40]"
   ]
  },
  {
   "cell_type": "code",
   "execution_count": 31,
   "id": "cbc13d7b-d3c2-4c66-ad71-85413c766bd9",
   "metadata": {},
   "outputs": [
    {
     "data": {
      "text/plain": [
       "'urga'"
      ]
     },
     "execution_count": 31,
     "metadata": {},
     "output_type": "execute_result"
    }
   ],
   "source": [
    "s[1:]"
   ]
  },
  {
   "cell_type": "code",
   "execution_count": 32,
   "id": "7b32d52f-ab9d-470f-a279-3fb063b3b405",
   "metadata": {},
   "outputs": [
    {
     "data": {
      "text/plain": [
       "'durg'"
      ]
     },
     "execution_count": 32,
     "metadata": {},
     "output_type": "execute_result"
    }
   ],
   "source": [
    "s[:4]"
   ]
  },
  {
   "cell_type": "code",
   "execution_count": 33,
   "id": "32a3cfdf-c6ee-424a-a48f-334d5af16db1",
   "metadata": {},
   "outputs": [
    {
     "data": {
      "text/plain": [
       "'durga'"
      ]
     },
     "execution_count": 33,
     "metadata": {},
     "output_type": "execute_result"
    }
   ],
   "source": [
    "s[:]"
   ]
  },
  {
   "cell_type": "code",
   "execution_count": 34,
   "id": "887fd54e-bc6f-4e2a-b19e-0e70585d705b",
   "metadata": {},
   "outputs": [
    {
     "data": {
      "text/plain": [
       "5"
      ]
     },
     "execution_count": 34,
     "metadata": {},
     "output_type": "execute_result"
    }
   ],
   "source": [
    "len(s)"
   ]
  },
  {
   "cell_type": "code",
   "execution_count": 35,
   "id": "29d250ff-4441-46d6-9628-4e54d0025c92",
   "metadata": {},
   "outputs": [
    {
     "data": {
      "text/plain": [
       "'durgadurgadurga'"
      ]
     },
     "execution_count": 35,
     "metadata": {},
     "output_type": "execute_result"
    }
   ],
   "source": [
    "s*3"
   ]
  },
  {
   "cell_type": "code",
   "execution_count": 36,
   "id": "7f228e1e-f01b-4a8f-8777-f35ad24f8e63",
   "metadata": {},
   "outputs": [
    {
     "data": {
      "text/plain": [
       "'durga'"
      ]
     },
     "execution_count": 36,
     "metadata": {},
     "output_type": "execute_result"
    }
   ],
   "source": [
    "s[::]"
   ]
  },
  {
   "cell_type": "code",
   "execution_count": 37,
   "id": "80220b2a-ffc9-4b51-89f8-751368858e79",
   "metadata": {},
   "outputs": [
    {
     "data": {
      "text/plain": [
       "'agrud'"
      ]
     },
     "execution_count": 37,
     "metadata": {},
     "output_type": "execute_result"
    }
   ],
   "source": [
    "s[::-1]"
   ]
  },
  {
   "cell_type": "code",
   "execution_count": 38,
   "id": "5b0836bf-0858-4673-ba4a-974d9abbac7f",
   "metadata": {},
   "outputs": [],
   "source": [
    "#type casting"
   ]
  },
  {
   "cell_type": "code",
   "execution_count": 39,
   "id": "d367ad0a-0a6d-4671-bf18-c8e17f082314",
   "metadata": {},
   "outputs": [
    {
     "data": {
      "text/plain": [
       "123"
      ]
     },
     "execution_count": 39,
     "metadata": {},
     "output_type": "execute_result"
    }
   ],
   "source": [
    "int(123.987)"
   ]
  },
  {
   "cell_type": "code",
   "execution_count": 41,
   "id": "e5e50448-4ee6-4f2a-86bf-457df07c378a",
   "metadata": {},
   "outputs": [
    {
     "ename": "SyntaxError",
     "evalue": "expression cannot contain assignment, perhaps you meant \"==\"? (3885786260.py, line 1)",
     "output_type": "error",
     "traceback": [
      "\u001b[1;36m  Cell \u001b[1;32mIn[41], line 1\u001b[1;36m\u001b[0m\n\u001b[1;33m    int(10=5j)   #cant convert complex to int\u001b[0m\n\u001b[1;37m        ^\u001b[0m\n\u001b[1;31mSyntaxError\u001b[0m\u001b[1;31m:\u001b[0m expression cannot contain assignment, perhaps you meant \"==\"?\n"
     ]
    }
   ],
   "source": [
    "int(10=5j)   #cant convert complex to int"
   ]
  },
  {
   "cell_type": "code",
   "execution_count": 43,
   "id": "f95443da-a9fa-4b4b-ae43-384d2a645eaa",
   "metadata": {},
   "outputs": [
    {
     "data": {
      "text/plain": [
       "1"
      ]
     },
     "execution_count": 43,
     "metadata": {},
     "output_type": "execute_result"
    }
   ],
   "source": [
    "int(True)"
   ]
  },
  {
   "cell_type": "code",
   "execution_count": 45,
   "id": "47c2cbf4-4ca5-493b-b70c-9b0b10896203",
   "metadata": {},
   "outputs": [
    {
     "data": {
      "text/plain": [
       "0"
      ]
     },
     "execution_count": 45,
     "metadata": {},
     "output_type": "execute_result"
    }
   ],
   "source": [
    "int(False)"
   ]
  },
  {
   "cell_type": "code",
   "execution_count": 46,
   "id": "d142200e-3891-4363-acee-258d7d4a05b2",
   "metadata": {},
   "outputs": [
    {
     "data": {
      "text/plain": [
       "10"
      ]
     },
     "execution_count": 46,
     "metadata": {},
     "output_type": "execute_result"
    }
   ],
   "source": [
    "int(\"10\")"
   ]
  },
  {
   "cell_type": "code",
   "execution_count": 47,
   "id": "9aaba9bc-97fe-476d-8452-57a9b2c2abf5",
   "metadata": {},
   "outputs": [
    {
     "data": {
      "text/plain": [
       "2"
      ]
     },
     "execution_count": 47,
     "metadata": {},
     "output_type": "execute_result"
    }
   ],
   "source": [
    "int(True + True)"
   ]
  },
  {
   "cell_type": "code",
   "execution_count": 48,
   "id": "714f4656-9df9-46c1-a1d1-b961b64d69ed",
   "metadata": {},
   "outputs": [
    {
     "ename": "ValueError",
     "evalue": "invalid literal for int() with base 10: '10.5'",
     "output_type": "error",
     "traceback": [
      "\u001b[1;31m---------------------------------------------------------------------------\u001b[0m",
      "\u001b[1;31mValueError\u001b[0m                                Traceback (most recent call last)",
      "Cell \u001b[1;32mIn[48], line 1\u001b[0m\n\u001b[1;32m----> 1\u001b[0m \u001b[38;5;28;43mint\u001b[39;49m\u001b[43m(\u001b[49m\u001b[38;5;124;43m\"\u001b[39;49m\u001b[38;5;124;43m10.5\u001b[39;49m\u001b[38;5;124;43m\"\u001b[39;49m\u001b[43m)\u001b[49m\n",
      "\u001b[1;31mValueError\u001b[0m: invalid literal for int() with base 10: '10.5'"
     ]
    }
   ],
   "source": [
    "int(\"10.5\")"
   ]
  },
  {
   "cell_type": "code",
   "execution_count": 49,
   "id": "d422f014-49a1-4326-a381-bb755b4ed5d9",
   "metadata": {},
   "outputs": [
    {
     "ename": "ValueError",
     "evalue": "invalid literal for int() with base 10: 'ten'",
     "output_type": "error",
     "traceback": [
      "\u001b[1;31m---------------------------------------------------------------------------\u001b[0m",
      "\u001b[1;31mValueError\u001b[0m                                Traceback (most recent call last)",
      "Cell \u001b[1;32mIn[49], line 1\u001b[0m\n\u001b[1;32m----> 1\u001b[0m \u001b[38;5;28;43mint\u001b[39;49m\u001b[43m(\u001b[49m\u001b[38;5;124;43m\"\u001b[39;49m\u001b[38;5;124;43mten\u001b[39;49m\u001b[38;5;124;43m\"\u001b[39;49m\u001b[43m)\u001b[49m\n",
      "\u001b[1;31mValueError\u001b[0m: invalid literal for int() with base 10: 'ten'"
     ]
    }
   ],
   "source": [
    "int(\"ten\")"
   ]
  },
  {
   "cell_type": "code",
   "execution_count": 50,
   "id": "0033e5a1-f6c9-4b38-bf5c-d0ccd0acd842",
   "metadata": {},
   "outputs": [
    {
     "ename": "ValueError",
     "evalue": "invalid literal for int() with base 10: 'OB1111'",
     "output_type": "error",
     "traceback": [
      "\u001b[1;31m---------------------------------------------------------------------------\u001b[0m",
      "\u001b[1;31mValueError\u001b[0m                                Traceback (most recent call last)",
      "Cell \u001b[1;32mIn[50], line 1\u001b[0m\n\u001b[1;32m----> 1\u001b[0m \u001b[38;5;28;43mint\u001b[39;49m\u001b[43m(\u001b[49m\u001b[38;5;124;43m\"\u001b[39;49m\u001b[38;5;124;43mOB1111\u001b[39;49m\u001b[38;5;124;43m\"\u001b[39;49m\u001b[43m)\u001b[49m\n",
      "\u001b[1;31mValueError\u001b[0m: invalid literal for int() with base 10: 'OB1111'"
     ]
    }
   ],
   "source": [
    "int(\"OB1111\")"
   ]
  },
  {
   "cell_type": "code",
   "execution_count": 51,
   "id": "553c57e3-e753-4903-a740-ff6887346709",
   "metadata": {},
   "outputs": [
    {
     "data": {
      "text/plain": [
       "10.0"
      ]
     },
     "execution_count": 51,
     "metadata": {},
     "output_type": "execute_result"
    }
   ],
   "source": [
    "float(\"10\")"
   ]
  },
  {
   "cell_type": "code",
   "execution_count": 52,
   "id": "7f86f182-2bdd-4d81-a377-577803f3e25f",
   "metadata": {},
   "outputs": [
    {
     "data": {
      "text/plain": [
       "False"
      ]
     },
     "execution_count": 52,
     "metadata": {},
     "output_type": "execute_result"
    }
   ],
   "source": [
    "bool(0)"
   ]
  },
  {
   "cell_type": "code",
   "execution_count": 53,
   "id": "556f56a1-fe51-40f7-8e6d-1f9143267c49",
   "metadata": {},
   "outputs": [
    {
     "data": {
      "text/plain": [
       "True"
      ]
     },
     "execution_count": 53,
     "metadata": {},
     "output_type": "execute_result"
    }
   ],
   "source": [
    "bool(1)"
   ]
  },
  {
   "cell_type": "code",
   "execution_count": 54,
   "id": "ab79f84d-bc44-4b97-ac9f-b7268c62235b",
   "metadata": {},
   "outputs": [
    {
     "data": {
      "text/plain": [
       "True"
      ]
     },
     "execution_count": 54,
     "metadata": {},
     "output_type": "execute_result"
    }
   ],
   "source": [
    "bool(True)"
   ]
  },
  {
   "cell_type": "code",
   "execution_count": 55,
   "id": "a845d8b6-fb1e-4617-a760-ccfe4c8afc27",
   "metadata": {},
   "outputs": [
    {
     "data": {
      "text/plain": [
       "False"
      ]
     },
     "execution_count": 55,
     "metadata": {},
     "output_type": "execute_result"
    }
   ],
   "source": [
    "bool(False)"
   ]
  },
  {
   "cell_type": "code",
   "execution_count": 57,
   "id": "1ac164b5-6e31-401a-bd0c-70f23ccad68a",
   "metadata": {},
   "outputs": [
    {
     "data": {
      "text/plain": [
       "True"
      ]
     },
     "execution_count": 57,
     "metadata": {},
     "output_type": "execute_result"
    }
   ],
   "source": [
    "bool(\"False\")"
   ]
  },
  {
   "cell_type": "code",
   "execution_count": 60,
   "id": "b3745902-4560-4579-af48-0b38b0ba51d9",
   "metadata": {},
   "outputs": [
    {
     "data": {
      "text/plain": [
       "False"
      ]
     },
     "execution_count": 60,
     "metadata": {},
     "output_type": "execute_result"
    }
   ],
   "source": [
    "bool(None)"
   ]
  },
  {
   "cell_type": "code",
   "execution_count": 59,
   "id": "aa8c07d5-f7d6-43d8-9e32-2367639dfc01",
   "metadata": {},
   "outputs": [
    {
     "data": {
      "text/plain": [
       "False"
      ]
     },
     "execution_count": 59,
     "metadata": {},
     "output_type": "execute_result"
    }
   ],
   "source": [
    "bool()"
   ]
  },
  {
   "cell_type": "code",
   "execution_count": 61,
   "id": "62ab498f-273b-4ca5-9c81-71f6e1682e75",
   "metadata": {},
   "outputs": [
    {
     "data": {
      "text/plain": [
       "True"
      ]
     },
     "execution_count": 61,
     "metadata": {},
     "output_type": "execute_result"
    }
   ],
   "source": [
    "a=10\n",
    "b=10\n",
    "a is b"
   ]
  },
  {
   "cell_type": "code",
   "execution_count": 62,
   "id": "3d3d3c28-501b-40c5-a24b-868b6656dc0f",
   "metadata": {},
   "outputs": [
    {
     "data": {
      "text/plain": [
       "2899311657488"
      ]
     },
     "execution_count": 62,
     "metadata": {},
     "output_type": "execute_result"
    }
   ],
   "source": [
    "id(a)"
   ]
  },
  {
   "cell_type": "code",
   "execution_count": 63,
   "id": "cf7808cd-83f7-49c4-a240-63fc6003e058",
   "metadata": {},
   "outputs": [
    {
     "data": {
      "text/plain": [
       "2899311657488"
      ]
     },
     "execution_count": 63,
     "metadata": {},
     "output_type": "execute_result"
    }
   ],
   "source": [
    "id(b)"
   ]
  },
  {
   "cell_type": "code",
   "execution_count": 64,
   "id": "f12de118-57ff-44a0-ae8a-2cb77d68fbe1",
   "metadata": {},
   "outputs": [
    {
     "data": {
      "text/plain": [
       "False"
      ]
     },
     "execution_count": 64,
     "metadata": {},
     "output_type": "execute_result"
    }
   ],
   "source": [
    "id(a) is id(b)"
   ]
  },
  {
   "cell_type": "code",
   "execution_count": 65,
   "id": "03db3916-5188-4cdf-96d9-bb111397aa40",
   "metadata": {},
   "outputs": [],
   "source": [
    "#byte data type   its unmutable"
   ]
  },
  {
   "cell_type": "code",
   "execution_count": 67,
   "id": "b1f1a392-55cd-487a-bea9-5850502f2c72",
   "metadata": {},
   "outputs": [
    {
     "name": "stdout",
     "output_type": "stream",
     "text": [
      "10\n",
      "40\n",
      "10\n",
      "20\n",
      "30\n",
      "40\n"
     ]
    }
   ],
   "source": [
    "x=[10,20,30,40]\n",
    "b=bytes(x)\n",
    "type(b)\n",
    "print(b[0])\n",
    "print(b[-1])\n",
    "for i in b : print(i)"
   ]
  },
  {
   "cell_type": "code",
   "execution_count": 68,
   "id": "30cfa6d0-7810-4127-980c-656070f82d77",
   "metadata": {},
   "outputs": [
    {
     "ename": "TypeError",
     "evalue": "'bytes' object does not support item assignment",
     "output_type": "error",
     "traceback": [
      "\u001b[1;31m---------------------------------------------------------------------------\u001b[0m",
      "\u001b[1;31mTypeError\u001b[0m                                 Traceback (most recent call last)",
      "Cell \u001b[1;32mIn[68], line 3\u001b[0m\n\u001b[0;32m      1\u001b[0m x\u001b[38;5;241m=\u001b[39m[\u001b[38;5;241m10\u001b[39m,\u001b[38;5;241m20\u001b[39m,\u001b[38;5;241m30\u001b[39m,\u001b[38;5;241m40\u001b[39m]\n\u001b[0;32m      2\u001b[0m b\u001b[38;5;241m=\u001b[39m\u001b[38;5;28mbytes\u001b[39m(x)\n\u001b[1;32m----> 3\u001b[0m \u001b[43mb\u001b[49m\u001b[43m[\u001b[49m\u001b[38;5;241;43m0\u001b[39;49m\u001b[43m]\u001b[49m\u001b[38;5;241m=\u001b[39m\u001b[38;5;241m100\u001b[39m\n",
      "\u001b[1;31mTypeError\u001b[0m: 'bytes' object does not support item assignment"
     ]
    }
   ],
   "source": [
    "x=[10,20,30,40]\n",
    "b=bytes(x)\n",
    "b[0]=100\n"
   ]
  },
  {
   "cell_type": "code",
   "execution_count": 72,
   "id": "ddae367c-58e3-4fa5-baec-9a6400ddab0f",
   "metadata": {},
   "outputs": [],
   "source": [
    "a=[10,20,30,50]"
   ]
  },
  {
   "cell_type": "code",
   "execution_count": 73,
   "id": "b3556c49-92d8-4d6c-bb0f-c23fa0cf99c5",
   "metadata": {},
   "outputs": [],
   "source": [
    "x=bytes(a)"
   ]
  },
  {
   "cell_type": "code",
   "execution_count": 74,
   "id": "0f47b2ce-c074-4c46-94b1-36957b0c9e9c",
   "metadata": {},
   "outputs": [
    {
     "ename": "TypeError",
     "evalue": "'bytes' object does not support item assignment",
     "output_type": "error",
     "traceback": [
      "\u001b[1;31m---------------------------------------------------------------------------\u001b[0m",
      "\u001b[1;31mTypeError\u001b[0m                                 Traceback (most recent call last)",
      "Cell \u001b[1;32mIn[74], line 1\u001b[0m\n\u001b[1;32m----> 1\u001b[0m \u001b[43mx\u001b[49m\u001b[43m[\u001b[49m\u001b[38;5;241;43m0\u001b[39;49m\u001b[43m]\u001b[49m\u001b[38;5;241m=\u001b[39m\u001b[38;5;241m20\u001b[39m\n",
      "\u001b[1;31mTypeError\u001b[0m: 'bytes' object does not support item assignment"
     ]
    }
   ],
   "source": [
    "x[0]=20"
   ]
  },
  {
   "cell_type": "code",
   "execution_count": 75,
   "id": "96ebd085-d294-440c-b793-940d8679b474",
   "metadata": {},
   "outputs": [],
   "source": [
    "#bytearray data type    its mutable"
   ]
  },
  {
   "cell_type": "code",
   "execution_count": 76,
   "id": "ea38935a-fb39-414d-9372-013c28e67195",
   "metadata": {},
   "outputs": [],
   "source": [
    "y=bytearray(a)"
   ]
  },
  {
   "cell_type": "code",
   "execution_count": 78,
   "id": "24b0c9af-2cd6-4ec7-a09b-910af234a8ba",
   "metadata": {},
   "outputs": [],
   "source": [
    "y[0]=33"
   ]
  },
  {
   "cell_type": "code",
   "execution_count": 80,
   "id": "7cb6a031-ad4f-4eec-b41e-832a86cf8489",
   "metadata": {},
   "outputs": [
    {
     "name": "stdout",
     "output_type": "stream",
     "text": [
      "33\n"
     ]
    }
   ],
   "source": [
    "print(y[0])"
   ]
  },
  {
   "cell_type": "code",
   "execution_count": 81,
   "id": "d79efc44-c637-4a95-ba51-84ce71e09b37",
   "metadata": {},
   "outputs": [
    {
     "name": "stdout",
     "output_type": "stream",
     "text": [
      "33\n",
      "20\n",
      "30\n",
      "50\n"
     ]
    }
   ],
   "source": [
    "for i in y:print(i)"
   ]
  },
  {
   "cell_type": "code",
   "execution_count": 96,
   "id": "fa94e120-ca31-4e11-a0a9-4752bdb4d1b6",
   "metadata": {},
   "outputs": [],
   "source": [
    "list2=[10,20,5,30]"
   ]
  },
  {
   "cell_type": "code",
   "execution_count": 97,
   "id": "69d7b9ff-0a81-437c-9177-689e92027ffb",
   "metadata": {},
   "outputs": [
    {
     "data": {
      "text/plain": [
       "[10, 20, 5, 30]"
      ]
     },
     "execution_count": 97,
     "metadata": {},
     "output_type": "execute_result"
    }
   ],
   "source": [
    "list2"
   ]
  },
  {
   "cell_type": "code",
   "execution_count": 98,
   "id": "ca2360c3-3092-4304-934a-0e6024773279",
   "metadata": {},
   "outputs": [],
   "source": [
    "list2.append('abc')"
   ]
  },
  {
   "cell_type": "code",
   "execution_count": 99,
   "id": "74b9c225-8687-4d7a-a362-114b628a7e07",
   "metadata": {},
   "outputs": [
    {
     "data": {
      "text/plain": [
       "[10, 20, 5, 30, 'abc']"
      ]
     },
     "execution_count": 99,
     "metadata": {},
     "output_type": "execute_result"
    }
   ],
   "source": [
    "list2"
   ]
  },
  {
   "cell_type": "code",
   "execution_count": 100,
   "id": "88123a3a-96e6-4835-b32b-05fbdc015e2b",
   "metadata": {},
   "outputs": [],
   "source": [
    "list2.extend([True,'hi',5.2])"
   ]
  },
  {
   "cell_type": "code",
   "execution_count": 101,
   "id": "a004f71c-07cf-42db-8546-d3ff551e4fd6",
   "metadata": {},
   "outputs": [],
   "source": [
    "list2.append([True,'hi'])"
   ]
  },
  {
   "cell_type": "code",
   "execution_count": 102,
   "id": "7878b1ba-47d5-4b18-96b5-6e7fcaedeb68",
   "metadata": {},
   "outputs": [
    {
     "data": {
      "text/plain": [
       "[10, 20, 5, 30, 'abc', True, 'hi', 5.2, [True, 'hi']]"
      ]
     },
     "execution_count": 102,
     "metadata": {},
     "output_type": "execute_result"
    }
   ],
   "source": [
    "list2"
   ]
  },
  {
   "cell_type": "code",
   "execution_count": 103,
   "id": "fe0fe175-24eb-47e7-8464-ca12a732582d",
   "metadata": {},
   "outputs": [
    {
     "ename": "TypeError",
     "evalue": "'<' not supported between instances of 'str' and 'int'",
     "output_type": "error",
     "traceback": [
      "\u001b[1;31m---------------------------------------------------------------------------\u001b[0m",
      "\u001b[1;31mTypeError\u001b[0m                                 Traceback (most recent call last)",
      "Cell \u001b[1;32mIn[103], line 1\u001b[0m\n\u001b[1;32m----> 1\u001b[0m \u001b[43mlist2\u001b[49m\u001b[38;5;241;43m.\u001b[39;49m\u001b[43msort\u001b[49m\u001b[43m(\u001b[49m\u001b[43m)\u001b[49m\n",
      "\u001b[1;31mTypeError\u001b[0m: '<' not supported between instances of 'str' and 'int'"
     ]
    }
   ],
   "source": [
    "list2.sort()"
   ]
  },
  {
   "cell_type": "code",
   "execution_count": 104,
   "id": "d24365f1-cb85-47a1-8905-aed35a664c26",
   "metadata": {},
   "outputs": [
    {
     "ename": "TypeError",
     "evalue": "'<' not supported between instances of 'str' and 'int'",
     "output_type": "error",
     "traceback": [
      "\u001b[1;31m---------------------------------------------------------------------------\u001b[0m",
      "\u001b[1;31mTypeError\u001b[0m                                 Traceback (most recent call last)",
      "Cell \u001b[1;32mIn[104], line 1\u001b[0m\n\u001b[1;32m----> 1\u001b[0m \u001b[38;5;28;43msorted\u001b[39;49m\u001b[43m(\u001b[49m\u001b[43mlist2\u001b[49m\u001b[43m)\u001b[49m\n",
      "\u001b[1;31mTypeError\u001b[0m: '<' not supported between instances of 'str' and 'int'"
     ]
    }
   ],
   "source": [
    "sorted(list2)"
   ]
  },
  {
   "cell_type": "code",
   "execution_count": 107,
   "id": "e09167a1-7dac-43e2-b50f-00a62c4f4585",
   "metadata": {},
   "outputs": [
    {
     "data": {
      "text/plain": [
       "20"
      ]
     },
     "execution_count": 107,
     "metadata": {},
     "output_type": "execute_result"
    }
   ],
   "source": [
    "list2.pop(2)"
   ]
  },
  {
   "cell_type": "code",
   "execution_count": 108,
   "id": "b1af9eaa-4c09-42c9-ba75-89a4403e44af",
   "metadata": {},
   "outputs": [
    {
     "data": {
      "text/plain": [
       "[5, 10, 30, 'abc', True, 'hi', 5.2, [True, 'hi']]"
      ]
     },
     "execution_count": 108,
     "metadata": {},
     "output_type": "execute_result"
    }
   ],
   "source": [
    "list2"
   ]
  },
  {
   "cell_type": "code",
   "execution_count": 109,
   "id": "9859b820-3780-4bf5-86fe-5c81a4db78a1",
   "metadata": {},
   "outputs": [],
   "source": [
    "list2.remove(10)"
   ]
  },
  {
   "cell_type": "code",
   "execution_count": 110,
   "id": "d73116e2-b3f8-4ece-a7f2-cf25e837bef1",
   "metadata": {},
   "outputs": [
    {
     "data": {
      "text/plain": [
       "[5, 30, 'abc', True, 'hi', 5.2, [True, 'hi']]"
      ]
     },
     "execution_count": 110,
     "metadata": {},
     "output_type": "execute_result"
    }
   ],
   "source": [
    "list2"
   ]
  },
  {
   "cell_type": "code",
   "execution_count": 123,
   "id": "a8798434-a2fb-4003-83e1-5c1a095a841a",
   "metadata": {},
   "outputs": [],
   "source": [
    "list3=list2.copy()\n",
    "list4=list2"
   ]
  },
  {
   "cell_type": "code",
   "execution_count": 114,
   "id": "06083f34-70a8-438c-8969-d753b2dd7eb7",
   "metadata": {},
   "outputs": [],
   "source": [
    "list2[0]=999"
   ]
  },
  {
   "cell_type": "code",
   "execution_count": 124,
   "id": "785c33f7-6de0-4c1b-99d6-666c2d1c6661",
   "metadata": {},
   "outputs": [
    {
     "name": "stdout",
     "output_type": "stream",
     "text": [
      "[999, 30, 'abc', True, 'hi', 5.2, [True, 'hi']] \n",
      " [999, 30, 'abc', True, 'hi', 5.2, [True, 'hi']] \n",
      " [999, 30, 'abc', True, 'hi', 5.2, [True, 'hi']]\n"
     ]
    }
   ],
   "source": [
    "print(list2,\"\\n\",list3,\"\\n\",list4)"
   ]
  },
  {
   "cell_type": "code",
   "execution_count": 125,
   "id": "359f964d-e0d6-4014-b246-409452498717",
   "metadata": {},
   "outputs": [
    {
     "name": "stdout",
     "output_type": "stream",
     "text": [
      "[999, 30, 'abc', True, 'hi', 5.2, [True, 'hi']]\n"
     ]
    }
   ],
   "source": [
    "print(list3)"
   ]
  },
  {
   "cell_type": "code",
   "execution_count": 126,
   "id": "bcb57a4e-90bf-4387-bee0-dab7635c5c95",
   "metadata": {},
   "outputs": [],
   "source": [
    "\n",
    "simple_list"
   ]
  },
  {
   "cell_type": "code",
   "execution_count": 128,
   "id": "f06b2c92-8aeb-45d2-bccc-62695278b7f5",
   "metadata": {},
   "outputs": [],
   "source": [
    "list1=[10,20,5,30]"
   ]
  },
  {
   "cell_type": "code",
   "execution_count": 131,
   "id": "a46e955f-fc96-4e0c-b3b3-adcb41092813",
   "metadata": {},
   "outputs": [],
   "source": [
    "reference_list=list1\n",
    "shallow_copy_list =list1.copy()\n",
    "\n",
    "import copy\n",
    "deep_copy_list=copy.deepcopy(list1)"
   ]
  },
  {
   "cell_type": "code",
   "execution_count": 135,
   "id": "0457fd10-16c6-4bdc-b849-a1fcdc4d457e",
   "metadata": {},
   "outputs": [],
   "source": [
    "list1[0]=60"
   ]
  },
  {
   "cell_type": "code",
   "execution_count": 136,
   "id": "0860bae5-79f3-42f5-a54a-5e6ae3f37257",
   "metadata": {},
   "outputs": [
    {
     "name": "stdout",
     "output_type": "stream",
     "text": [
      "[60, 20, 5, 30] \n",
      " [10, 20, 5, 30] \n",
      " [10, 20, 5, 30]\n"
     ]
    }
   ],
   "source": [
    "print(reference_list,\"\\n\",shallow_copy_list,\"\\n\",deep_copy_list)"
   ]
  },
  {
   "cell_type": "code",
   "execution_count": 137,
   "id": "7f8863e6-61ae-4ce1-9e28-9fbac8ea41f1",
   "metadata": {},
   "outputs": [],
   "source": [
    "nested_list =[10,20,20,[80,70,60]]"
   ]
  },
  {
   "cell_type": "code",
   "execution_count": 138,
   "id": "b36bf7c1-d51e-44f8-8707-d927b7820d05",
   "metadata": {},
   "outputs": [],
   "source": [
    "reference_list=nested_list\n",
    "shallow_copy_list =nested_list.copy()\n",
    "\n",
    "import copy\n",
    "deep_copy_list=copy.deepcopy(nested_list)"
   ]
  },
  {
   "cell_type": "code",
   "execution_count": 140,
   "id": "619a1dc3-3203-464b-8a22-add1e4ba4879",
   "metadata": {},
   "outputs": [],
   "source": [
    "nested_list.append(100)"
   ]
  },
  {
   "cell_type": "code",
   "execution_count": 141,
   "id": "2869edec-d56b-4e16-8521-c0fff0ad61e5",
   "metadata": {},
   "outputs": [
    {
     "name": "stdout",
     "output_type": "stream",
     "text": [
      "[10, 20, 20, [80, 70, 60], 100] \n",
      " [10, 20, 20, [80, 70, 60], 100] \n",
      " [10, 20, 20, [80, 70, 60]] \n",
      " [10, 20, 20, [80, 70, 60]]\n"
     ]
    }
   ],
   "source": [
    "print(nested_list,\"\\n\",reference_list,\"\\n\",shallow_copy_list,\"\\n\",deep_copy_list)"
   ]
  },
  {
   "cell_type": "code",
   "execution_count": 142,
   "id": "2f8632b8-81c3-4a01-9baf-7313d4a8c4a5",
   "metadata": {},
   "outputs": [],
   "source": [
    "l1=[1]\n",
    "t1=(1)\n",
    "t2=1\n",
    "t3=(1,)"
   ]
  },
  {
   "cell_type": "code",
   "execution_count": 143,
   "id": "ff3712b5-5d29-4c93-b5c5-7bd5db084ac8",
   "metadata": {},
   "outputs": [],
   "source": [
    "list2=[]"
   ]
  },
  {
   "cell_type": "code",
   "execution_count": 146,
   "id": "f8fb1e33-5796-4782-8a51-becfc6f6b642",
   "metadata": {},
   "outputs": [],
   "source": [
    "tuple1=(1)"
   ]
  },
  {
   "cell_type": "code",
   "execution_count": 147,
   "id": "e98b83c8-93a6-4902-abcb-60e0c88f6528",
   "metadata": {},
   "outputs": [
    {
     "name": "stdout",
     "output_type": "stream",
     "text": [
      "1\n"
     ]
    }
   ],
   "source": [
    "print(tuple1)"
   ]
  },
  {
   "cell_type": "code",
   "execution_count": 148,
   "id": "cfd63e3f-2b53-46a9-a675-8764db2d11f6",
   "metadata": {},
   "outputs": [
    {
     "data": {
      "text/plain": [
       "int"
      ]
     },
     "execution_count": 148,
     "metadata": {},
     "output_type": "execute_result"
    }
   ],
   "source": [
    "type(tuple1)"
   ]
  },
  {
   "cell_type": "code",
   "execution_count": 152,
   "id": "8bffea29-9b2d-476b-83f0-c7e2f3fe6fe7",
   "metadata": {},
   "outputs": [],
   "source": [
    "days=('sun','mon','tue','wed')"
   ]
  },
  {
   "cell_type": "code",
   "execution_count": 153,
   "id": "330dd13c-38a4-426d-bf02-1d7950c982d4",
   "metadata": {},
   "outputs": [
    {
     "ename": "TypeError",
     "evalue": "'tuple' object does not support item assignment",
     "output_type": "error",
     "traceback": [
      "\u001b[1;31m---------------------------------------------------------------------------\u001b[0m",
      "\u001b[1;31mTypeError\u001b[0m                                 Traceback (most recent call last)",
      "Cell \u001b[1;32mIn[153], line 1\u001b[0m\n\u001b[1;32m----> 1\u001b[0m \u001b[43mdays\u001b[49m\u001b[43m[\u001b[49m\u001b[38;5;241;43m0\u001b[39;49m\u001b[43m]\u001b[49m\u001b[38;5;241m=\u001b[39m\u001b[38;5;124m'\u001b[39m\u001b[38;5;124mmon\u001b[39m\u001b[38;5;124m'\u001b[39m\n",
      "\u001b[1;31mTypeError\u001b[0m: 'tuple' object does not support item assignment"
     ]
    }
   ],
   "source": [
    "days[0]='mon'"
   ]
  },
  {
   "cell_type": "code",
   "execution_count": 154,
   "id": "31561aae-5af5-48b0-b150-3a9ea985113a",
   "metadata": {},
   "outputs": [
    {
     "data": {
      "text/plain": [
       "1"
      ]
     },
     "execution_count": 154,
     "metadata": {},
     "output_type": "execute_result"
    }
   ],
   "source": [
    "days.count('sun')"
   ]
  },
  {
   "cell_type": "code",
   "execution_count": 155,
   "id": "6808e2b0-ec93-43d1-858e-e6a8deda7918",
   "metadata": {},
   "outputs": [
    {
     "data": {
      "text/plain": [
       "0"
      ]
     },
     "execution_count": 155,
     "metadata": {},
     "output_type": "execute_result"
    }
   ],
   "source": [
    "days.index('sun')"
   ]
  },
  {
   "cell_type": "code",
   "execution_count": 156,
   "id": "10e2eb93-f89e-4e2c-97cd-8f16cc39b94f",
   "metadata": {},
   "outputs": [],
   "source": [
    "days=list(days)"
   ]
  },
  {
   "cell_type": "code",
   "execution_count": 157,
   "id": "6750ed64-4c92-47cb-a26b-9bbd88d4c549",
   "metadata": {},
   "outputs": [],
   "source": [
    "days.extend([\"thu\",\"fri\",\"sat\"])"
   ]
  },
  {
   "cell_type": "code",
   "execution_count": 158,
   "id": "392b87e0-1d9a-405b-88b7-6fc45824858d",
   "metadata": {},
   "outputs": [],
   "source": [
    "days=tuple(days)"
   ]
  },
  {
   "cell_type": "code",
   "execution_count": 159,
   "id": "e79b234a-cf57-4885-a23d-7b4882f80ca1",
   "metadata": {},
   "outputs": [
    {
     "data": {
      "text/plain": [
       "('sun', 'mon', 'tue', 'wed', 'thu', 'fri', 'sat')"
      ]
     },
     "execution_count": 159,
     "metadata": {},
     "output_type": "execute_result"
    }
   ],
   "source": [
    "days"
   ]
  },
  {
   "cell_type": "code",
   "execution_count": null,
   "id": "fff7fc18-783b-4156-9187-2036d9ad876e",
   "metadata": {},
   "outputs": [],
   "source": [
    "##range"
   ]
  },
  {
   "cell_type": "code",
   "execution_count": 160,
   "id": "3f263daf-0fc5-4fa7-88bb-4abf6c6fc867",
   "metadata": {},
   "outputs": [
    {
     "name": "stdout",
     "output_type": "stream",
     "text": [
      "0\n",
      "1\n",
      "2\n",
      "3\n",
      "4\n",
      "5\n",
      "6\n",
      "7\n",
      "8\n",
      "9\n"
     ]
    }
   ],
   "source": [
    "r=range(10)\n",
    "for i in r :print(i)"
   ]
  },
  {
   "cell_type": "code",
   "execution_count": 166,
   "id": "69b2de4a-0c5d-4336-827d-16b950de834e",
   "metadata": {},
   "outputs": [
    {
     "name": "stdout",
     "output_type": "stream",
     "text": [
      "10\n",
      "11\n",
      "12\n",
      "13\n",
      "14\n",
      "15\n",
      "16\n",
      "17\n",
      "18\n",
      "19\n"
     ]
    }
   ],
   "source": [
    "r=range(10,20)\n",
    "for i in r:print(i)"
   ]
  },
  {
   "cell_type": "code",
   "execution_count": 167,
   "id": "3795cc87-c955-4154-8efb-bbd715835d1c",
   "metadata": {},
   "outputs": [
    {
     "name": "stdout",
     "output_type": "stream",
     "text": [
      "10\n",
      "12\n",
      "14\n",
      "16\n",
      "18\n"
     ]
    }
   ],
   "source": [
    "r=range(10,20,2)\n",
    "for i in r:print(i)"
   ]
  },
  {
   "cell_type": "code",
   "execution_count": 168,
   "id": "29314513-ccf8-456f-aabe-945a5c6c7f72",
   "metadata": {},
   "outputs": [
    {
     "data": {
      "text/plain": [
       "10"
      ]
     },
     "execution_count": 168,
     "metadata": {},
     "output_type": "execute_result"
    }
   ],
   "source": [
    "r=range(10,20)\n",
    "r[0]"
   ]
  },
  {
   "cell_type": "code",
   "execution_count": 169,
   "id": "7241ac3b-11c1-4478-915e-794a22c7a778",
   "metadata": {},
   "outputs": [
    {
     "ename": "IndexError",
     "evalue": "range object index out of range",
     "output_type": "error",
     "traceback": [
      "\u001b[1;31m---------------------------------------------------------------------------\u001b[0m",
      "\u001b[1;31mIndexError\u001b[0m                                Traceback (most recent call last)",
      "Cell \u001b[1;32mIn[169], line 1\u001b[0m\n\u001b[1;32m----> 1\u001b[0m \u001b[43mr\u001b[49m\u001b[43m[\u001b[49m\u001b[38;5;241;43m15\u001b[39;49m\u001b[43m]\u001b[49m\n",
      "\u001b[1;31mIndexError\u001b[0m: range object index out of range"
     ]
    }
   ],
   "source": [
    "r[15]"
   ]
  },
  {
   "cell_type": "code",
   "execution_count": 170,
   "id": "b80f0bf3-1c97-40a9-becf-7d29aa87fecb",
   "metadata": {},
   "outputs": [
    {
     "ename": "TypeError",
     "evalue": "'range' object does not support item assignment",
     "output_type": "error",
     "traceback": [
      "\u001b[1;31m---------------------------------------------------------------------------\u001b[0m",
      "\u001b[1;31mTypeError\u001b[0m                                 Traceback (most recent call last)",
      "Cell \u001b[1;32mIn[170], line 1\u001b[0m\n\u001b[1;32m----> 1\u001b[0m \u001b[43mr\u001b[49m\u001b[43m[\u001b[49m\u001b[38;5;241;43m0\u001b[39;49m\u001b[43m]\u001b[49m\u001b[38;5;241m=\u001b[39m\u001b[38;5;241m20\u001b[39m\n",
      "\u001b[1;31mTypeError\u001b[0m: 'range' object does not support item assignment"
     ]
    }
   ],
   "source": [
    "r[0]=20"
   ]
  },
  {
   "cell_type": "code",
   "execution_count": 171,
   "id": "1ce30c74-1888-4e2c-8614-9a8288bafc8b",
   "metadata": {},
   "outputs": [],
   "source": [
    "#set"
   ]
  },
  {
   "cell_type": "code",
   "execution_count": 174,
   "id": "05e9da9b-16c5-49b5-805b-724ded6bfc22",
   "metadata": {},
   "outputs": [],
   "source": [
    "set1={5,2,7,1,0,'abc',8,2}"
   ]
  },
  {
   "cell_type": "code",
   "execution_count": 175,
   "id": "f39f5c60-c186-4d3a-9205-1f10637302c6",
   "metadata": {},
   "outputs": [
    {
     "data": {
      "text/plain": [
       "{0, 1, 2, 5, 7, 8, 'abc'}"
      ]
     },
     "execution_count": 175,
     "metadata": {},
     "output_type": "execute_result"
    }
   ],
   "source": [
    "set1"
   ]
  },
  {
   "cell_type": "code",
   "execution_count": 176,
   "id": "305831c6-5e6a-42ac-9c12-7b18454ae7f8",
   "metadata": {},
   "outputs": [
    {
     "ename": "SyntaxError",
     "evalue": "cannot assign to function call here. Maybe you meant '==' instead of '='? (3225716996.py, line 1)",
     "output_type": "error",
     "traceback": [
      "\u001b[1;36m  Cell \u001b[1;32mIn[176], line 1\u001b[1;36m\u001b[0m\n\u001b[1;33m    set1.update(0)=7\u001b[0m\n\u001b[1;37m    ^\u001b[0m\n\u001b[1;31mSyntaxError\u001b[0m\u001b[1;31m:\u001b[0m cannot assign to function call here. Maybe you meant '==' instead of '='?\n"
     ]
    }
   ],
   "source": [
    "set1.update(0)=7"
   ]
  },
  {
   "cell_type": "code",
   "execution_count": 177,
   "id": "9b4fdd45-2725-4925-8324-18069ace4ef9",
   "metadata": {},
   "outputs": [
    {
     "name": "stdout",
     "output_type": "stream",
     "text": [
      "Help on class set in module builtins:\n",
      "\n",
      "class set(object)\n",
      " |  set() -> new empty set object\n",
      " |  set(iterable) -> new set object\n",
      " |  \n",
      " |  Build an unordered collection of unique elements.\n",
      " |  \n",
      " |  Methods defined here:\n",
      " |  \n",
      " |  __and__(self, value, /)\n",
      " |      Return self&value.\n",
      " |  \n",
      " |  __contains__(...)\n",
      " |      x.__contains__(y) <==> y in x.\n",
      " |  \n",
      " |  __eq__(self, value, /)\n",
      " |      Return self==value.\n",
      " |  \n",
      " |  __ge__(self, value, /)\n",
      " |      Return self>=value.\n",
      " |  \n",
      " |  __getattribute__(self, name, /)\n",
      " |      Return getattr(self, name).\n",
      " |  \n",
      " |  __gt__(self, value, /)\n",
      " |      Return self>value.\n",
      " |  \n",
      " |  __iand__(self, value, /)\n",
      " |      Return self&=value.\n",
      " |  \n",
      " |  __init__(self, /, *args, **kwargs)\n",
      " |      Initialize self.  See help(type(self)) for accurate signature.\n",
      " |  \n",
      " |  __ior__(self, value, /)\n",
      " |      Return self|=value.\n",
      " |  \n",
      " |  __isub__(self, value, /)\n",
      " |      Return self-=value.\n",
      " |  \n",
      " |  __iter__(self, /)\n",
      " |      Implement iter(self).\n",
      " |  \n",
      " |  __ixor__(self, value, /)\n",
      " |      Return self^=value.\n",
      " |  \n",
      " |  __le__(self, value, /)\n",
      " |      Return self<=value.\n",
      " |  \n",
      " |  __len__(self, /)\n",
      " |      Return len(self).\n",
      " |  \n",
      " |  __lt__(self, value, /)\n",
      " |      Return self<value.\n",
      " |  \n",
      " |  __ne__(self, value, /)\n",
      " |      Return self!=value.\n",
      " |  \n",
      " |  __or__(self, value, /)\n",
      " |      Return self|value.\n",
      " |  \n",
      " |  __rand__(self, value, /)\n",
      " |      Return value&self.\n",
      " |  \n",
      " |  __reduce__(...)\n",
      " |      Return state information for pickling.\n",
      " |  \n",
      " |  __repr__(self, /)\n",
      " |      Return repr(self).\n",
      " |  \n",
      " |  __ror__(self, value, /)\n",
      " |      Return value|self.\n",
      " |  \n",
      " |  __rsub__(self, value, /)\n",
      " |      Return value-self.\n",
      " |  \n",
      " |  __rxor__(self, value, /)\n",
      " |      Return value^self.\n",
      " |  \n",
      " |  __sizeof__(...)\n",
      " |      S.__sizeof__() -> size of S in memory, in bytes\n",
      " |  \n",
      " |  __sub__(self, value, /)\n",
      " |      Return self-value.\n",
      " |  \n",
      " |  __xor__(self, value, /)\n",
      " |      Return self^value.\n",
      " |  \n",
      " |  add(...)\n",
      " |      Add an element to a set.\n",
      " |      \n",
      " |      This has no effect if the element is already present.\n",
      " |  \n",
      " |  clear(...)\n",
      " |      Remove all elements from this set.\n",
      " |  \n",
      " |  copy(...)\n",
      " |      Return a shallow copy of a set.\n",
      " |  \n",
      " |  difference(...)\n",
      " |      Return the difference of two or more sets as a new set.\n",
      " |      \n",
      " |      (i.e. all elements that are in this set but not the others.)\n",
      " |  \n",
      " |  difference_update(...)\n",
      " |      Remove all elements of another set from this set.\n",
      " |  \n",
      " |  discard(...)\n",
      " |      Remove an element from a set if it is a member.\n",
      " |      \n",
      " |      If the element is not a member, do nothing.\n",
      " |  \n",
      " |  intersection(...)\n",
      " |      Return the intersection of two sets as a new set.\n",
      " |      \n",
      " |      (i.e. all elements that are in both sets.)\n",
      " |  \n",
      " |  intersection_update(...)\n",
      " |      Update a set with the intersection of itself and another.\n",
      " |  \n",
      " |  isdisjoint(...)\n",
      " |      Return True if two sets have a null intersection.\n",
      " |  \n",
      " |  issubset(...)\n",
      " |      Report whether another set contains this set.\n",
      " |  \n",
      " |  issuperset(...)\n",
      " |      Report whether this set contains another set.\n",
      " |  \n",
      " |  pop(...)\n",
      " |      Remove and return an arbitrary set element.\n",
      " |      Raises KeyError if the set is empty.\n",
      " |  \n",
      " |  remove(...)\n",
      " |      Remove an element from a set; it must be a member.\n",
      " |      \n",
      " |      If the element is not a member, raise a KeyError.\n",
      " |  \n",
      " |  symmetric_difference(...)\n",
      " |      Return the symmetric difference of two sets as a new set.\n",
      " |      \n",
      " |      (i.e. all elements that are in exactly one of the sets.)\n",
      " |  \n",
      " |  symmetric_difference_update(...)\n",
      " |      Update a set with the symmetric difference of itself and another.\n",
      " |  \n",
      " |  union(...)\n",
      " |      Return the union of sets as a new set.\n",
      " |      \n",
      " |      (i.e. all elements that are in either set.)\n",
      " |  \n",
      " |  update(...)\n",
      " |      Update a set with the union of itself and others.\n",
      " |  \n",
      " |  ----------------------------------------------------------------------\n",
      " |  Class methods defined here:\n",
      " |  \n",
      " |  __class_getitem__(...) from builtins.type\n",
      " |      See PEP 585\n",
      " |  \n",
      " |  ----------------------------------------------------------------------\n",
      " |  Static methods defined here:\n",
      " |  \n",
      " |  __new__(*args, **kwargs) from builtins.type\n",
      " |      Create and return a new object.  See help(type) for accurate signature.\n",
      " |  \n",
      " |  ----------------------------------------------------------------------\n",
      " |  Data and other attributes defined here:\n",
      " |  \n",
      " |  __hash__ = None\n",
      "\n"
     ]
    }
   ],
   "source": [
    "help(set)"
   ]
  },
  {
   "cell_type": "code",
   "execution_count": 178,
   "id": "b6684ec7-1794-4b15-874a-2913166d9f22",
   "metadata": {},
   "outputs": [],
   "source": [
    " fs=frozenset(s)"
   ]
  },
  {
   "cell_type": "code",
   "execution_count": 179,
   "id": "427040c2-1311-4a53-8f54-eaaf874371e1",
   "metadata": {},
   "outputs": [
    {
     "data": {
      "text/plain": [
       "frozenset"
      ]
     },
     "execution_count": 179,
     "metadata": {},
     "output_type": "execute_result"
    }
   ],
   "source": [
    "type(fs)"
   ]
  },
  {
   "cell_type": "code",
   "execution_count": 181,
   "id": "1f1f6d47-cda2-4a19-bd65-22183268ddbb",
   "metadata": {},
   "outputs": [
    {
     "data": {
      "text/plain": [
       "frozenset({10, 20, 30, 40})"
      ]
     },
     "execution_count": 181,
     "metadata": {},
     "output_type": "execute_result"
    }
   ],
   "source": [
    "frozenset({40,10,20,30})"
   ]
  },
  {
   "cell_type": "code",
   "execution_count": 182,
   "id": "592ffedb-c16a-4ca3-9471-a2112113b36a",
   "metadata": {},
   "outputs": [],
   "source": [
    "#dict"
   ]
  },
  {
   "cell_type": "code",
   "execution_count": 183,
   "id": "79b9f442-f4b2-469c-8f49-298d040a2007",
   "metadata": {},
   "outputs": [
    {
     "data": {
      "text/plain": [
       "{101: 'sunny', 102: 'ravi', 103: 'shiva'}"
      ]
     },
     "execution_count": 183,
     "metadata": {},
     "output_type": "execute_result"
    }
   ],
   "source": [
    "d={101:'durga',102:'ravi',103:'shiva'}\n",
    "d[101]='sunny'\n",
    "d"
   ]
  },
  {
   "cell_type": "code",
   "execution_count": 184,
   "id": "a7d29243-30ed-44e6-916d-47888af541cc",
   "metadata": {},
   "outputs": [],
   "source": [
    "d={}   #we can create empty dict"
   ]
  },
  {
   "cell_type": "code",
   "execution_count": 185,
   "id": "b0543853-5932-49a9-9ac7-8dec9e9db133",
   "metadata": {},
   "outputs": [
    {
     "name": "stdout",
     "output_type": "stream",
     "text": [
      "{'a': 'apple', 'b': 'banana'}\n"
     ]
    }
   ],
   "source": [
    "d['a']='apple'\n",
    "d['b']='banana'\n",
    "print(d)"
   ]
  },
  {
   "cell_type": "code",
   "execution_count": 186,
   "id": "4fc79849-b779-42c0-8eee-ac61693fe89d",
   "metadata": {},
   "outputs": [],
   "source": [
    "dict1={111:'a','abc':333,111:'b','key':False}"
   ]
  },
  {
   "cell_type": "code",
   "execution_count": 187,
   "id": "0c2e20a9-ecfa-4999-aa49-ea204574755d",
   "metadata": {},
   "outputs": [
    {
     "data": {
      "text/plain": [
       "{111: 'b', 'abc': 333, 'key': False}"
      ]
     },
     "execution_count": 187,
     "metadata": {},
     "output_type": "execute_result"
    }
   ],
   "source": [
    "dict1"
   ]
  },
  {
   "cell_type": "code",
   "execution_count": 190,
   "id": "1f029def-273e-497e-8111-cd5a684f1e28",
   "metadata": {},
   "outputs": [],
   "source": [
    "dict1.update({112:'aaa',99:'bbb'})"
   ]
  },
  {
   "cell_type": "code",
   "execution_count": 191,
   "id": "7e5e8091-e5eb-4aa7-9e8a-09b99813804d",
   "metadata": {},
   "outputs": [
    {
     "data": {
      "text/plain": [
       "{111: 'b', 'abc': 333, 'key': False, 112: 'aaa', 99: 'bbb'}"
      ]
     },
     "execution_count": 191,
     "metadata": {},
     "output_type": "execute_result"
    }
   ],
   "source": [
    "dict1"
   ]
  },
  {
   "cell_type": "code",
   "execution_count": 192,
   "id": "521d0b61-70b3-4e6a-8222-aa21e43261e2",
   "metadata": {},
   "outputs": [],
   "source": [
    "dict1[111]=1000"
   ]
  },
  {
   "cell_type": "code",
   "execution_count": 193,
   "id": "c3a2b714-18a0-40cb-85de-fe83314d8632",
   "metadata": {},
   "outputs": [
    {
     "data": {
      "text/plain": [
       "{111: 1000, 'abc': 333, 'key': False, 112: 'aaa', 99: 'bbb'}"
      ]
     },
     "execution_count": 193,
     "metadata": {},
     "output_type": "execute_result"
    }
   ],
   "source": [
    "dict1"
   ]
  },
  {
   "cell_type": "code",
   "execution_count": 195,
   "id": "0add7544-ea34-41a5-945d-6afd5601cb41",
   "metadata": {},
   "outputs": [
    {
     "data": {
      "text/plain": [
       "1000"
      ]
     },
     "execution_count": 195,
     "metadata": {},
     "output_type": "execute_result"
    }
   ],
   "source": [
    "dict1[111]"
   ]
  },
  {
   "cell_type": "code",
   "execution_count": 196,
   "id": "a18c1cab-84f6-486e-a95d-2d8c542413b6",
   "metadata": {},
   "outputs": [
    {
     "data": {
      "text/plain": [
       "dict_items([(111, 1000), ('abc', 333), ('key', False), (112, 'aaa'), (99, 'bbb')])"
      ]
     },
     "execution_count": 196,
     "metadata": {},
     "output_type": "execute_result"
    }
   ],
   "source": [
    "dict1.items()"
   ]
  },
  {
   "cell_type": "code",
   "execution_count": 197,
   "id": "a46a7871-6ec4-4d52-aea3-dcf050fb84cf",
   "metadata": {},
   "outputs": [
    {
     "data": {
      "text/plain": [
       "1000"
      ]
     },
     "execution_count": 197,
     "metadata": {},
     "output_type": "execute_result"
    }
   ],
   "source": [
    "dict1.get(111)"
   ]
  },
  {
   "cell_type": "code",
   "execution_count": 198,
   "id": "29511af2-dd20-42b2-8829-20e4a43d23e6",
   "metadata": {},
   "outputs": [
    {
     "data": {
      "text/plain": [
       "dict_keys([111, 'abc', 'key', 112, 99])"
      ]
     },
     "execution_count": 198,
     "metadata": {},
     "output_type": "execute_result"
    }
   ],
   "source": [
    "dict1.keys()"
   ]
  },
  {
   "cell_type": "code",
   "execution_count": 199,
   "id": "0cd602b6-07eb-4b9e-a414-cdc29b16c159",
   "metadata": {},
   "outputs": [
    {
     "data": {
      "text/plain": [
       "1000"
      ]
     },
     "execution_count": 199,
     "metadata": {},
     "output_type": "execute_result"
    }
   ],
   "source": [
    "dict1.pop(111)"
   ]
  },
  {
   "cell_type": "code",
   "execution_count": 202,
   "id": "083438b0-45d2-44cc-b39a-5342df10b7cb",
   "metadata": {},
   "outputs": [
    {
     "data": {
      "text/plain": [
       "(99, 'bbb')"
      ]
     },
     "execution_count": 202,
     "metadata": {},
     "output_type": "execute_result"
    }
   ],
   "source": [
    "dict1.popitem()"
   ]
  },
  {
   "cell_type": "code",
   "execution_count": 203,
   "id": "2a61055b-061f-4be5-a7b4-a8fd1075396d",
   "metadata": {},
   "outputs": [],
   "source": [
    "dict1.setdefault('unknown')"
   ]
  },
  {
   "cell_type": "code",
   "execution_count": null,
   "id": "6d0a2060-fa38-4dbd-9bab-06b7682cced1",
   "metadata": {},
   "outputs": [],
   "source": []
  },
  {
   "cell_type": "code",
   "execution_count": null,
   "id": "675725b6-d7f7-4b12-a6a0-d951e33a1888",
   "metadata": {},
   "outputs": [],
   "source": []
  }
 ],
 "metadata": {
  "kernelspec": {
   "display_name": "Python 3 (ipykernel)",
   "language": "python",
   "name": "python3"
  },
  "language_info": {
   "codemirror_mode": {
    "name": "ipython",
    "version": 3
   },
   "file_extension": ".py",
   "mimetype": "text/x-python",
   "name": "python",
   "nbconvert_exporter": "python",
   "pygments_lexer": "ipython3",
   "version": "3.10.0"
  }
 },
 "nbformat": 4,
 "nbformat_minor": 5
}
